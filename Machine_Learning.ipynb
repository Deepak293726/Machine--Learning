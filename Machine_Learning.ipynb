{
  "nbformat": 4,
  "nbformat_minor": 0,
  "metadata": {
    "colab": {
      "provenance": []
    },
    "kernelspec": {
      "name": "python3",
      "display_name": "Python 3"
    },
    "language_info": {
      "name": "python"
    }
  },
  "cells": [
    {
      "cell_type": "markdown",
      "source": [
        "#Q1.Explain the differences between AI, ML, Deep Learning (DL), and DataScience (DS).\n",
        " =Artificial Intelligence (AI):\n",
        "A broad field of computer science focused on building systems that can mimic human intelligence. It includes reasoning, decision-making, perception, natural language understanding, and problem-solving.\n",
        "Example: Self-driving cars, chatbots.\n",
        "\n",
        "Machine Learning (ML):\n",
        "A subset of AI that allows machines to learn from data and improve performance over time without explicit programming. ML is about designing algorithms that generalize patterns from examples.\n",
        "Example: Email spam classification.\n",
        "\n",
        "Deep Learning (DL):\n",
        "A specialized branch of ML that uses neural networks with many layers to automatically learn hierarchical features from raw data. Especially effective in large, complex datasets such as images, audio, and text.\n",
        "Example: Face recognition using convolutional neural networks.\n",
        "\n",
        "Data Science (DS):\n",
        "A multidisciplinary field that deals with extracting meaningful insights from data. It combines statistics, data analysis, visualization, and ML to support business decision-making.\n",
        "Example: Analyzing customer purchase patterns to recommend new products."
      ],
      "metadata": {
        "id": "HQLP1_mZZZAs"
      }
    },
    {
      "cell_type": "markdown",
      "source": [
        "#Q2.What are the types of machine learning? Describe each with one real-world example?\n",
        "=Supervised learning: Train on labeled data (features → target).\n",
        "Example: Predicting home prices from area, rooms, location (regression).\n",
        "\n",
        "Unsupervised learning: Discover structure in unlabeled data.\n",
        "Example: Customer segmentation with K-Means.\n",
        "\n",
        "Semi-supervised learning: Few labels + many unlabeled samples.\n",
        "Example: Classifying product images when only 5% are labeled.\n",
        "\n",
        "Self-supervised learning: Create proxy labels from the data itself to learn representations.\n",
        "Example: Masked language modeling (BERT) on text.\n",
        "\n",
        "Reinforcement learning: Agent learns actions by rewards/penalties.\n",
        "Example: Dynamic ad bidding to maximize ROI.\n",
        "\n",
        "Online learning (streaming): Model updates continuously with incoming data.\n",
        "Example: Real-time click-through rate prediction.\n"
      ],
      "metadata": {
        "id": "T1BMHBrgZqdL"
      }
    },
    {
      "cell_type": "markdown",
      "source": [
        "#Q3.Define overfitting, underfitting, and the bias-variance tradeoff in machine learning?\n",
        "=Underfitting: Model too simple → high training & test error (high bias, low variance).\n",
        "\n",
        "Overfitting: Model too complex, memorizes noise → low training error but high test error (low bias, high variance).\n",
        "\n",
        "Bias–variance tradeoff: As complexity increases, bias decreases and variance increases. Aim for the “sweet spot” with lowest validation error using regularization, early stopping, ensembling, and proper cross-validation.\n"
      ],
      "metadata": {
        "id": "YCA-xfugaDjn"
      }
    },
    {
      "cell_type": "markdown",
      "source": [
        "#Q4.What are outliers in a dataset, and list three common techniques for handling them?\n",
        "=Outliers are values that deviate markedly from the bulk of the data—due to errors, rare events, or natural heavy tails.\n",
        "\n",
        "Techniques (pick according to context):\n",
        "\n",
        "IQR capping (winsorization): Clip beyond [Q1−1.5·IQR, Q3+1.5·IQR].\n",
        "\n",
        "Z-score/robust transforms: Log/Box-Cox transform; use median/IQR or RobustScaler.\n",
        "\n",
        "Filtering/flagging: Drop clear measurement errors or add an is_outlier flag; prefer robust models (trees)."
      ],
      "metadata": {
        "id": "JvjIfaC2aPcQ"
      }
    },
    {
      "cell_type": "markdown",
      "source": [
        "#Q5.Explain the process of handling missing values and mention one imputation technique for numerical and one for categorical data?\n",
        "=Audit missingness (MCAR/MAR/MNAR) → decide per feature (drop vs impute) → impute on train only (avoid leakage) → add “was_missing” indicator if useful → validate impact.\n",
        "\n",
        "Numerical imputation (example): Median (robust to outliers).\n",
        "\n",
        "Categorical imputation (example): Most frequent (mode) or a dedicated \"Unknown\" category.\n"
      ],
      "metadata": {
        "id": "PoIeBoaoaoGp"
      }
    },
    {
      "cell_type": "code",
      "source": [
        "#Q6. Write a Python program that: Creates a synthetic imbalanced dataset with make_classification() from sklearn.datasets.Prints the class distribution\n",
        "from collections import Counter\n",
        "from sklearn.datasets import make_classification\n",
        "\n",
        "X, y = make_classification(\n",
        "    n_samples=1000, n_features=10, n_informative=3, n_redundant=1,\n",
        "    n_clusters_per_class=1, weights=[0.95, 0.05], flip_y=0, random_state=42\n",
        ")\n",
        "print(\"Class distribution:\", Counter(y))"
      ],
      "metadata": {
        "colab": {
          "base_uri": "https://localhost:8080/"
        },
        "id": "Erik2J57a4-v",
        "outputId": "73ff345c-4180-4235-e26c-a7e7929060b5"
      },
      "execution_count": 3,
      "outputs": [
        {
          "output_type": "stream",
          "name": "stdout",
          "text": [
            "Class distribution: Counter({np.int64(0): 950, np.int64(1): 50})\n"
          ]
        }
      ]
    },
    {
      "cell_type": "code",
      "source": [
        "#Q7.Implement one-hot encoding using pandas for the following list of colors:['Red', 'Green', 'Blue', 'Green', 'Red']. Print the resulting dataframe.\n",
        "import pandas as pd\n",
        "\n",
        "colors = ['Red', 'Green', 'Blue', 'Green', 'Red']\n",
        "df = pd.DataFrame({'color': colors})\n",
        "oh = pd.get_dummies(df['color'])\n",
        "print(oh)\n",
        "#    Blue  Green  Red\n",
        "# 0     0      0    1\n",
        "# 1     0      1    0\n",
        "# 2     1      0    0\n",
        "# 3     0      1    0\n",
        "# 4     0      0    1\n"
      ],
      "metadata": {
        "colab": {
          "base_uri": "https://localhost:8080/"
        },
        "id": "8neP4hjDd-Sr",
        "outputId": "bd2ba159-dbea-41ac-f790-06e79e84e27a"
      },
      "execution_count": 4,
      "outputs": [
        {
          "output_type": "stream",
          "name": "stdout",
          "text": [
            "    Blue  Green    Red\n",
            "0  False  False   True\n",
            "1  False   True  False\n",
            "2   True  False  False\n",
            "3  False   True  False\n",
            "4  False  False   True\n"
          ]
        }
      ]
    },
    {
      "cell_type": "code",
      "source": [
        "#Q8.Write a Python script to:● Generate 1000 samples from a normal distribution.● Introduce 50 random missing values.● Fill missing values with the column mean.● Plot a histogram before and after imputation.\n",
        "import numpy as np\n",
        "import pandas as pd\n",
        "import matplotlib.pyplot as plt\n",
        "\n",
        "# 1) generate normal data\n",
        "rng = np.random.default_rng(0)\n",
        "samples = rng.normal(loc=0, scale=1, size=1000).astype(float)\n",
        "\n",
        "# 2) introduce 50 missing values at random positions\n",
        "idx = rng.choice(len(samples), size=50, replace=False)\n",
        "samples_nan = samples.copy()\n",
        "samples_nan[idx] = np.nan\n",
        "\n",
        "# 3) plot histogram BEFORE imputation\n",
        "plt.figure()\n",
        "pd.Series(samples_nan).hist(bins=30)\n",
        "plt.title(\"Histogram BEFORE imputation\")\n",
        "plt.xlabel(\"Value\"); plt.ylabel(\"Frequency\")\n",
        "plt.show()\n",
        "\n",
        "# 4) mean imputation\n",
        "mean_val = np.nanmean(samples_nan)\n",
        "imputed = np.where(np.isnan(samples_nan), mean_val, samples_nan)\n",
        "print(f\"Imputation mean used: {mean_val:.4f}\")\n",
        "\n",
        "# 5) plot histogram AFTER imputation\n",
        "plt.figure()\n",
        "pd.Series(imputed).hist(bins=30)\n",
        "plt.title(\"Histogram AFTER mean imputation\")\n",
        "plt.xlabel(\"Value\"); plt.ylabel(\"Frequency\")\n",
        "plt.show()\n"
      ],
      "metadata": {
        "colab": {
          "base_uri": "https://localhost:8080/",
          "height": 944
        },
        "id": "JazFk3AoeLAJ",
        "outputId": "da2fabde-ba0f-4146-9d22-94431298c1d6"
      },
      "execution_count": 5,
      "outputs": [
        {
          "output_type": "display_data",
          "data": {
            "text/plain": [
              "<Figure size 640x480 with 1 Axes>"
            ],
            "image/png": "[encoded data removed]"
          },
          "metadata": {}
        },
        {
          "output_type": "stream",
          "name": "stdout",
          "text": [
            "Imputation mean used: -0.0464\n"
          ]
        },
        {
          "output_type": "display_data",
          "data": {
            "text/plain": [
              "<Figure size 640x480 with 1 Axes>"
            ],
            "image/png": "[encoded data removed]"
          },
          "metadata": {}
        }
      ]
    },
    {
      "cell_type": "code",
      "source": [
        "#Q9.Implement Min-Max scaling on the following list of numbers [2, 5, 10, 15,20] using sklearn.preprocessing.MinMaxScaler. Print the scaled array.\n",
        "import numpy as np\n",
        "from sklearn.preprocessing import MinMaxScaler\n",
        "\n",
        "nums = np.array([2, 5, 10, 15, 20], dtype=float).reshape(-1, 1)\n",
        "scaled = MinMaxScaler().fit_transform(nums).flatten()\n",
        "print(\"Original:\", nums.flatten())\n",
        "print(\"Scaled:\", scaled)\n",
        "# Original: [ 2.  5. 10. 15. 20.]\n",
        "# Scaled:   [0.   0.17647059 0.47058824 0.76470588 1.        ]\n"
      ],
      "metadata": {
        "colab": {
          "base_uri": "https://localhost:8080/"
        },
        "id": "GbzgFoHReXG7",
        "outputId": "c8c28239-654a-4d0b-ceab-84058a1d26c9"
      },
      "execution_count": 6,
      "outputs": [
        {
          "output_type": "stream",
          "name": "stdout",
          "text": [
            "Original: [ 2.  5. 10. 15. 20.]\n",
            "Scaled: [0.         0.16666667 0.44444444 0.72222222 1.        ]\n"
          ]
        }
      ]
    },
    {
      "cell_type": "code",
      "source": [
        "#Q10.You are working as a data scientist for a retail company. You receive a customertransaction dataset that contains:● Missing ages,● Outliers in transaction amount,● A highly imbalanced target (fraud vs. non-fraud),● Categorical variables like paymon plan you’d follow before training a machine learning model. Include how you’d address missing data, outliers, imbalance, and encoding.import numpy as np, pandas as pd\n",
        "from collections import Counter\n",
        "from sklearn.utils.class_weight import compute_class_weight\n",
        "\n",
        "# --- synthetic example ---\n",
        "rng = np.random.default_rng(7); n = 200\n",
        "ages = rng.integers(18, 70, size=n).astype(float)\n",
        "ages[rng.choice(n, 20, replace=False)] = np.nan                  # missing ages\n",
        "amount = rng.normal(2000, 500, size=n)\n",
        "amount[rng.choice(n, 5, replace=False)] *= 8                     # extreme outliers\n",
        "fraud = np.zeros(n, dtype=int)\n",
        "fraud[rng.choice(n, 12, replace=False)] = 1                      # ~6% fraud\n",
        "pay = rng.choice([\"Card\",\"UPI\",\"Cash\",\"Wallet\"], size=n, p=[.5,.3,.15,.05])\n",
        "\n",
        "df = pd.DataFrame({\"age\": ages, \"amount\": amount, \"payment_method\": pay, \"fraud\": fraud})\n",
        "print(\"Head:\\n\", df.head())\n",
        "\n",
        "# 1) Missing ages → median impute\n",
        "age_med = df[\"age\"].median()\n",
        "df[\"age\"] = df[\"age\"].fillna(age_med)\n",
        "print(f\"\\nFilled missing ages with median={age_med:.1f}. Remaining missing ages: {df['age'].isna().sum()}\")\n",
        "\n",
        "# 2) Outliers → IQR capping winsorization on 'amount'\n",
        "Q1, Q3 = df[\"amount\"].quantile(.25), df[\"amount\"].quantile(.75)\n",
        "IQR = Q3 - Q1\n",
        "lower, upper = Q1 - 1.5*IQR, Q3 + 1.5*IQR\n",
        "before = ((df[\"amount\"] < lower) | (df[\"amount\"] > upper)).sum()\n",
        "df[\"amount_capped\"] = df[\"amount\"].clip(lower, upper)\n",
        "after = ((df[\"amount_capped\"] < lower) | (df[\"amount_capped\"] > upper)).sum()\n",
        "print(f\"Outliers before: {before}, after capping: {after}\")\n",
        "\n",
        "# 3) Imbalance → class weights (example; or use SMOTE/undersampling)\n",
        "classes = np.array([0,1])\n",
        "weights = compute_class_weight(\"balanced\", classes=classes, y=df[\"fraud\"])\n",
        "print(\"Class distribution:\", Counter(df[\"fraud\"]))\n",
        "print(\"Class weights:\", dict(zip(classes, weights)))\n",
        "\n",
        "# 4) Encoding categoricals\n",
        "df_enc = pd.get_dummies(df, columns=[\"payment_method\"], drop_first=True)\n",
        "print(\"Encoded cols:\", [c for c in df_enc.columns if c.startswith(\"payment_method_\")])\n",
        "\n",
        "# Final features (example)\n",
        "X = df_enc[[\"age\",\"amount_capped\"] + [c for c in df_enc.columns if c.startswith(\"payment_method_\")]]\n",
        "y = df_enc[\"fraud\"]\n",
        "print(\"X shape:\", X.shape, \"| y shape:\", y.shape)\n",
        "print(X.head())\n"
      ],
      "metadata": {
        "colab": {
          "base_uri": "https://localhost:8080/"
        },
        "id": "PFn0bPIgg2RF",
        "outputId": "c717bc2d-88c8-459d-cf2d-2264952e4cae"
      },
      "execution_count": 8,
      "outputs": [
        {
          "output_type": "stream",
          "name": "stdout",
          "text": [
            "Head:\n",
            "     age       amount payment_method  fraud\n",
            "0  67.0  2096.372956           Card      0\n",
            "1  50.0  2044.653243           Card      0\n",
            "2  53.0  1704.485824           Card      0\n",
            "3  64.0  1940.695088            UPI      0\n",
            "4  48.0  1001.126854           Card      0\n",
            "\n",
            "Filled missing ages with median=44.0. Remaining missing ages: 0\n",
            "Outliers before: 6, after capping: 0\n",
            "Class distribution: Counter({0: 188, 1: 12})\n",
            "Class weights: {np.int64(0): np.float64(0.5319148936170213), np.int64(1): np.float64(8.333333333333334)}\n",
            "Encoded cols: ['payment_method_Cash', 'payment_method_UPI', 'payment_method_Wallet']\n",
            "X shape: (200, 5) | y shape: (200,)\n",
            "    age  amount_capped  payment_method_Cash  payment_method_UPI  \\\n",
            "0  67.0    2096.372956                False               False   \n",
            "1  50.0    2044.653243                False               False   \n",
            "2  53.0    1704.485824                False               False   \n",
            "3  64.0    1940.695088                False                True   \n",
            "4  48.0    1001.126854                False               False   \n",
            "\n",
            "   payment_method_Wallet  \n",
            "0                  False  \n",
            "1                  False  \n",
            "2                  False  \n",
            "3                  False  \n",
            "4                  False  \n"
          ]
        }
      ]
    }
  ]
}